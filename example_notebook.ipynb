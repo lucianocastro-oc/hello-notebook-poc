{
 "cells": [
  {
   "cell_type": "markdown",
   "metadata": {},
   "source": [
    "# Example Notebook with Parameters\n",
    "\n",
    "This notebook demonstrates a simple parameterized workflow for use with Papermill."
   ]
  },
  {
   "cell_type": "code",
   "execution_count": null,
   "metadata": {
    "tags": [
     "parameters"
    ]
   },
   "outputs": [],
   "source": [
    "# Default parameters\n",
    "input_data = \"default_input.csv\"\n",
    "output_path = \"output/\"\n",
    "threshold = 0.5\n",
    "max_iterations = 100"
   ]
  },
  {
   "cell_type": "code",
   "execution_count": null,
   "metadata": {},
   "outputs": [],
   "source": [
    "# Print parameters to verify\n",
    "print(f\"Input data: {input_data}\")\n",
    "print(f\"Output path: {output_path}\")\n",
    "print(f\"Threshold: {threshold}\")\n",
    "print(f\"Max iterations: {max_iterations}\")"
   ]
  },
  {
   "cell_type": "code",
   "execution_count": null,
   "metadata": {},
   "outputs": [],
   "source": [
    "# Example processing\n",
    "import datetime\n",
    "\n",
    "result = {\n",
    "    \"timestamp\": str(datetime.datetime.now()),\n",
    "    \"parameters\": {\n",
    "        \"input_data\": input_data,\n",
    "        \"output_path\": output_path,\n",
    "        \"threshold\": threshold,\n",
    "        \"max_iterations\": max_iterations\n",
    "    },\n",
    "    \"status\": \"completed\"\n",
    "}\n",
    "\n",
    "print(\"Processing completed!\")\n",
    "print(result)"
   ]
  }
 ],
 "metadata": {
  "kernelspec": {
   "display_name": "Python 3",
   "language": "python",
   "name": "python3"
  },
  "language_info": {
   "codemirror_mode": {
    "name": "ipython",
    "version": 3
   },
   "file_extension": ".py",
   "mimetype": "text/x-python",
   "name": "python",
   "nbconvert_exporter": "python",
   "pygments_lexer": "ipython3",
   "version": "3.8.0"
  }
 },
 "nbformat": 4,
 "nbformat_minor": 4
}
